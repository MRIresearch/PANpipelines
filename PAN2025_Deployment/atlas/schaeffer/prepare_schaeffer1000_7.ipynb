{
 "cells": [
  {
   "cell_type": "markdown",
   "id": "6e90e143-b218-4518-b55d-fcb7531c18e3",
   "metadata": {},
   "source": [
    "### Prepare Schaeffer 1000 atlas\n",
    "Download schaeffer1000 atlas and prepare labels for XCPD from https://github.com/ThomasYeoLab/CBIG/tree/master/stable_projects/brain_parcellation/Schaefer2018_LocalGlobal/Parcellations/MNI\n",
    "This atlas has been created based on yeo 17 atlas."
   ]
  },
  {
   "cell_type": "code",
   "execution_count": 1,
   "id": "ac49d1a1-7fbc-4f50-be05-6cec6d362426",
   "metadata": {},
   "outputs": [],
   "source": [
    "import nibabel as nib\n",
    "import numpy as np\n",
    "import pandas as pd\n",
    "from  panpipelines.utils import transformer as trans\n",
    "import os"
   ]
  },
  {
   "cell_type": "code",
   "execution_count": 2,
   "id": "f7a8167f-eebc-4aa0-b1dd-c079b374ef88",
   "metadata": {},
   "outputs": [],
   "source": [
    "#https://github.com/ThomasYeoLab/CBIG/tree/master/stable_projects/brain_parcellation/Schaefer2018_LocalGlobal/Parcellations/MNI/fsleyes_lut\n",
    "lutfile=\"./sources/Schaefer2018_1000Parcels_7Networks_order.lut\"\n",
    "with open(lutfile, 'r') as infile:\n",
    "    lines = infile.readlines()"
   ]
  },
  {
   "cell_type": "code",
   "execution_count": 3,
   "id": "cac42319-ad82-41bd-8c58-13bc56c2aa6a",
   "metadata": {
    "scrolled": true
   },
   "outputs": [],
   "source": [
    "alllabels=[x.replace('\\n','').split()[-1] for x in lines]"
   ]
  },
  {
   "cell_type": "code",
   "execution_count": 4,
   "id": "07fa01c5-a47c-49f1-a4a8-6f02f8f01a99",
   "metadata": {},
   "outputs": [
    {
     "data": {
      "text/plain": [
       "1000"
      ]
     },
     "execution_count": 4,
     "metadata": {},
     "output_type": "execute_result"
    }
   ],
   "source": [
    "len(alllabels)"
   ]
  },
  {
   "cell_type": "code",
   "execution_count": 5,
   "id": "7daf2afe-2133-40c1-b618-4fc38af6358e",
   "metadata": {},
   "outputs": [],
   "source": [
    "#https://github.com/ThomasYeoLab/CBIG/tree/master/stable_projects/brain_parcellation/Schaefer2018_LocalGlobal/Parcellations/MNI\n",
    "atlas_file = \"./sources/Schaefer2018_1000Parcels_7Networks_order_FSLMNI152_1mm.nii.gz\"\n",
    "atlas_img = nib.load(atlas_file)\n",
    "atlas_data = atlas_img.get_fdata()"
   ]
  },
  {
   "cell_type": "code",
   "execution_count": 6,
   "id": "e0b92ada-8ed7-43c8-9a85-df6fb240826f",
   "metadata": {},
   "outputs": [],
   "source": [
    "roinums=[x for x in range(1,int(np.max(atlas_data)+1))]"
   ]
  },
  {
   "cell_type": "code",
   "execution_count": 7,
   "id": "01617960-2688-4897-8560-a0249f994f74",
   "metadata": {},
   "outputs": [
    {
     "data": {
      "text/plain": [
       "1000"
      ]
     },
     "execution_count": 7,
     "metadata": {},
     "output_type": "execute_result"
    }
   ],
   "source": [
    "len(roinums)"
   ]
  },
  {
   "cell_type": "code",
   "execution_count": 8,
   "id": "e525e1f8-8030-431b-8eee-058371d84c2b",
   "metadata": {},
   "outputs": [
    {
     "data": {
      "text/html": [
       "<div>\n",
       "<style scoped>\n",
       "    .dataframe tbody tr th:only-of-type {\n",
       "        vertical-align: middle;\n",
       "    }\n",
       "\n",
       "    .dataframe tbody tr th {\n",
       "        vertical-align: top;\n",
       "    }\n",
       "\n",
       "    .dataframe thead th {\n",
       "        text-align: right;\n",
       "    }\n",
       "</style>\n",
       "<table border=\"1\" class=\"dataframe\">\n",
       "  <thead>\n",
       "    <tr style=\"text-align: right;\">\n",
       "      <th></th>\n",
       "      <th>index</th>\n",
       "      <th>label</th>\n",
       "    </tr>\n",
       "  </thead>\n",
       "  <tbody>\n",
       "    <tr>\n",
       "      <th>0</th>\n",
       "      <td>1</td>\n",
       "      <td>7Networks_LH_Vis_1</td>\n",
       "    </tr>\n",
       "    <tr>\n",
       "      <th>1</th>\n",
       "      <td>2</td>\n",
       "      <td>7Networks_LH_Vis_2</td>\n",
       "    </tr>\n",
       "    <tr>\n",
       "      <th>2</th>\n",
       "      <td>3</td>\n",
       "      <td>7Networks_LH_Vis_3</td>\n",
       "    </tr>\n",
       "    <tr>\n",
       "      <th>3</th>\n",
       "      <td>4</td>\n",
       "      <td>7Networks_LH_Vis_4</td>\n",
       "    </tr>\n",
       "    <tr>\n",
       "      <th>4</th>\n",
       "      <td>5</td>\n",
       "      <td>7Networks_LH_Vis_5</td>\n",
       "    </tr>\n",
       "    <tr>\n",
       "      <th>...</th>\n",
       "      <td>...</td>\n",
       "      <td>...</td>\n",
       "    </tr>\n",
       "    <tr>\n",
       "      <th>995</th>\n",
       "      <td>996</td>\n",
       "      <td>7Networks_RH_Default_pCunPCC_16</td>\n",
       "    </tr>\n",
       "    <tr>\n",
       "      <th>996</th>\n",
       "      <td>997</td>\n",
       "      <td>7Networks_RH_Default_pCunPCC_17</td>\n",
       "    </tr>\n",
       "    <tr>\n",
       "      <th>997</th>\n",
       "      <td>998</td>\n",
       "      <td>7Networks_RH_Default_pCunPCC_18</td>\n",
       "    </tr>\n",
       "    <tr>\n",
       "      <th>998</th>\n",
       "      <td>999</td>\n",
       "      <td>7Networks_RH_Cont_pCun_2</td>\n",
       "    </tr>\n",
       "    <tr>\n",
       "      <th>999</th>\n",
       "      <td>1000</td>\n",
       "      <td>7Networks_RH_Cont_pCun_4</td>\n",
       "    </tr>\n",
       "  </tbody>\n",
       "</table>\n",
       "<p>1000 rows × 2 columns</p>\n",
       "</div>"
      ],
      "text/plain": [
       "     index                            label\n",
       "0        1               7Networks_LH_Vis_1\n",
       "1        2               7Networks_LH_Vis_2\n",
       "2        3               7Networks_LH_Vis_3\n",
       "3        4               7Networks_LH_Vis_4\n",
       "4        5               7Networks_LH_Vis_5\n",
       "..     ...                              ...\n",
       "995    996  7Networks_RH_Default_pCunPCC_16\n",
       "996    997  7Networks_RH_Default_pCunPCC_17\n",
       "997    998  7Networks_RH_Default_pCunPCC_18\n",
       "998    999         7Networks_RH_Cont_pCun_2\n",
       "999   1000         7Networks_RH_Cont_pCun_4\n",
       "\n",
       "[1000 rows x 2 columns]"
      ]
     },
     "execution_count": 8,
     "metadata": {},
     "output_type": "execute_result"
    }
   ],
   "source": [
    "schaefer1000_labeldf = pd.DataFrame(roinums,columns=[\"index\"])\n",
    "schaefer1000_labeldf[\"label\"] = alllabels\n",
    "schaefer1000_labeldf"
   ]
  },
  {
   "cell_type": "code",
   "execution_count": 9,
   "id": "53eecadb-bdd2-438f-9a25-bdb070c72a32",
   "metadata": {},
   "outputs": [],
   "source": [
    "schaefer1000_labeldf.to_csv(\"./outputs/atlas-schaefer1000b_dseg.tsv\",sep=\"\\t\",header=True, index=False)"
   ]
  },
  {
   "cell_type": "code",
   "execution_count": 10,
   "id": "baf29b6a-a605-4560-8caf-cddfab24603c",
   "metadata": {},
   "outputs": [
    {
     "data": {
      "text/plain": [
       "['LAS',\n",
       " array([[  -1.,    0.,    0.,   90.],\n",
       "        [   0.,    1.,    0., -126.],\n",
       "        [   0.,    0.,    1.,  -72.],\n",
       "        [   0.,    0.,    0.,    1.]])]"
      ]
     },
     "execution_count": 10,
     "metadata": {},
     "output_type": "execute_result"
    }
   ],
   "source": [
    "trans.get_orientation_from_file(atlas_file,type=\"image\")"
   ]
  },
  {
   "cell_type": "code",
   "execution_count": 11,
   "id": "c1d93ca6-30f1-4682-baf5-a6cf67d7a4c8",
   "metadata": {},
   "outputs": [
    {
     "name": "stdout",
     "output_type": "stream",
     "text": [
      "250318-20:41:36,213 nipype.workflow INFO:\n",
      "\t [Node] Setting-up \"reorient_to_RAS\" in \"/tmp/tmphpli2xdj/reorient_to_RAS\".\n"
     ]
    },
    {
     "name": "stderr",
     "output_type": "stream",
     "text": [
      "2025-03-18 20:41:36,213 [    INFO] [Node] Setting-up \"reorient_to_RAS\" in \"/tmp/tmphpli2xdj/reorient_to_RAS\".\n"
     ]
    },
    {
     "name": "stdout",
     "output_type": "stream",
     "text": [
      "250318-20:41:36,216 nipype.workflow INFO:\n",
      "\t [Node] Executing \"reorient_to_RAS\" <nipype.interfaces.image.Reorient>\n"
     ]
    },
    {
     "name": "stderr",
     "output_type": "stream",
     "text": [
      "2025-03-18 20:41:36,216 [    INFO] [Node] Executing \"reorient_to_RAS\" <nipype.interfaces.image.Reorient>\n"
     ]
    },
    {
     "name": "stdout",
     "output_type": "stream",
     "text": [
      "250318-20:41:36,469 nipype.workflow INFO:\n",
      "\t [Node] Finished \"reorient_to_RAS\", elapsed time 0.236681s.\n"
     ]
    },
    {
     "name": "stderr",
     "output_type": "stream",
     "text": [
      "2025-03-18 20:41:36,469 [    INFO] [Node] Finished \"reorient_to_RAS\", elapsed time 0.236681s.\n"
     ]
    },
    {
     "name": "stdout",
     "output_type": "stream",
     "text": [
      "250318-20:41:36,475 nipype.utils INFO:\n",
      "\t cp /tmp/tmphpli2xdj/reorient_to_RAS/Schaefer2018_1000Parcels_7Networks_order_FSLMNI152_1mm_ras.nii.gz /groups/ryant/PANapps/PANpipelines/PAN2025_Deployment/atlas/schaeffer/outputs/atlas-schaefer1000b_space-MNI152NLin6Asym_res-01_dseg.nii.gz\n"
     ]
    },
    {
     "name": "stderr",
     "output_type": "stream",
     "text": [
      "2025-03-18 20:41:36,475 [    INFO] cp /tmp/tmphpli2xdj/reorient_to_RAS/Schaefer2018_1000Parcels_7Networks_order_FSLMNI152_1mm_ras.nii.gz /groups/ryant/PANapps/PANpipelines/PAN2025_Deployment/atlas/schaeffer/outputs/atlas-schaefer1000b_space-MNI152NLin6Asym_res-01_dseg.nii.gz\n"
     ]
    },
    {
     "name": "stdout",
     "output_type": "stream",
     "text": [
      "250318-20:41:36,499 nipype.utils INFO:\n",
      "\t \n"
     ]
    },
    {
     "name": "stderr",
     "output_type": "stream",
     "text": [
      "2025-03-18 20:41:36,499 [    INFO] \n"
     ]
    }
   ],
   "source": [
    "input_file = atlas_file\n",
    "schaefer1000_atlas_file=\"./outputs/atlas-schaefer1000b_space-MNI152NLin6Asym_res-01_dseg.nii.gz\"\n",
    "result = trans.reorient(os.path.abspath(input_file), \"RAS\", os.path.abspath(schaefer1000_atlas_file))"
   ]
  },
  {
   "cell_type": "code",
   "execution_count": 12,
   "id": "513fd8ba-b653-438c-9022-7cc6860950a1",
   "metadata": {},
   "outputs": [
    {
     "data": {
      "text/plain": [
       "['RAS',\n",
       " array([[   1.,    0.,    0.,  -91.],\n",
       "        [   0.,    1.,    0., -126.],\n",
       "        [   0.,    0.,    1.,  -72.],\n",
       "        [   0.,    0.,    0.,    1.]])]"
      ]
     },
     "execution_count": 12,
     "metadata": {},
     "output_type": "execute_result"
    }
   ],
   "source": [
    "trans.get_orientation_from_file(schaefer1000_atlas_file,type=\"image\")"
   ]
  },
  {
   "cell_type": "code",
   "execution_count": null,
   "id": "8756a3bc-8cd8-45d9-a5a6-98ae34d31b26",
   "metadata": {},
   "outputs": [],
   "source": []
  }
 ],
 "metadata": {
  "kernelspec": {
   "display_name": "Python 3 (ipykernel)",
   "language": "python",
   "name": "python3"
  },
  "language_info": {
   "codemirror_mode": {
    "name": "ipython",
    "version": 3
   },
   "file_extension": ".py",
   "mimetype": "text/x-python",
   "name": "python",
   "nbconvert_exporter": "python",
   "pygments_lexer": "ipython3",
   "version": "3.11.4"
  }
 },
 "nbformat": 4,
 "nbformat_minor": 5
}
