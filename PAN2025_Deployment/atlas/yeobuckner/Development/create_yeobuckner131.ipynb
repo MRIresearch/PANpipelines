{
 "cells": [
  {
   "cell_type": "markdown",
   "id": "6e90e143-b218-4518-b55d-fcb7531c18e3",
   "metadata": {},
   "source": [
    "### Create yeobuckner131\n",
    "Atlas combines 114-network Yeo Cerebral atlas with the 17-network Buckner Cerebellar atlas. Areas of overlap between cerebellum and cerebrum are resolved by assigning cerebellar values to the overlapping voxels."
   ]
  },
  {
   "cell_type": "code",
   "execution_count": 124,
   "id": "ac49d1a1-7fbc-4f50-be05-6cec6d362426",
   "metadata": {},
   "outputs": [],
   "source": [
    "import nibabel as nib\n",
    "import numpy as np\n",
    "import pandas as pd"
   ]
  },
  {
   "cell_type": "code",
   "execution_count": 125,
   "id": "438d4a20-b646-4e5e-8d2a-373bdb69e3ee",
   "metadata": {},
   "outputs": [],
   "source": [
    "def reorient(input_file, ori, out_file=None):\n",
    "    from nipype.interfaces.image import Reorient\n",
    "    from nipype import Node\n",
    "    import os\n",
    "\n",
    "    reorient_node = Node(Reorient(),name=\"reorient_to_{}\".format(ori))\n",
    "    reorient_node.inputs.in_file =  os.path.abspath(input_file)\n",
    "    reorient_node.inputs.orientation=ori\n",
    "    reorient_results = reorient_node.run()\n",
    "    results_file = os.path.abspath(reorient_results.outputs.out_file)\n",
    "    if out_file:\n",
    "        out_file = os.path.abspath(out_file)\n",
    "        os.system(f\"mv {results_file} {out_file}\")\n",
    "    else:\n",
    "        out_file = results_file\n",
    "    \n",
    "    return out_file"
   ]
  },
  {
   "cell_type": "code",
   "execution_count": 126,
   "id": "f7a8167f-eebc-4aa0-b1dd-c079b374ef88",
   "metadata": {},
   "outputs": [],
   "source": [
    "# https://github.com/ThomasYeoLab/CBIG/blob/master/stable_projects/brain_parcellation/Yeo2011_fcMRI_clustering/1000subjects_reference/Yeo_JNeurophysiol11_SplitLabels/Yeo2011_17networks_N1000.split_components.glossary.csv\n",
    "label_file = \"./sources/Originals/Yeo2011_17networks_N1000.split_components.glossary.csv\"\n",
    "yeo_df = pd.read_table(label_file,sep=\",\")"
   ]
  },
  {
   "cell_type": "code",
   "execution_count": 127,
   "id": "cac42319-ad82-41bd-8c58-13bc56c2aa6a",
   "metadata": {
    "scrolled": true
   },
   "outputs": [
    {
     "data": {
      "text/html": [
       "<div>\n",
       "<style scoped>\n",
       "    .dataframe tbody tr th:only-of-type {\n",
       "        vertical-align: middle;\n",
       "    }\n",
       "\n",
       "    .dataframe tbody tr th {\n",
       "        vertical-align: top;\n",
       "    }\n",
       "\n",
       "    .dataframe thead th {\n",
       "        text-align: right;\n",
       "    }\n",
       "</style>\n",
       "<table border=\"1\" class=\"dataframe\">\n",
       "  <thead>\n",
       "    <tr style=\"text-align: right;\">\n",
       "      <th></th>\n",
       "      <th>Label Name</th>\n",
       "      <th>Network Name</th>\n",
       "      <th>Full Component Name</th>\n",
       "    </tr>\n",
       "  </thead>\n",
       "  <tbody>\n",
       "    <tr>\n",
       "      <th>0</th>\n",
       "      <td>NONE</td>\n",
       "      <td>NaN</td>\n",
       "      <td>NaN</td>\n",
       "    </tr>\n",
       "    <tr>\n",
       "      <th>1</th>\n",
       "      <td>17Networks_LH_VisCent_Striate</td>\n",
       "      <td>central visual</td>\n",
       "      <td>striate cortex</td>\n",
       "    </tr>\n",
       "    <tr>\n",
       "      <th>2</th>\n",
       "      <td>17Networks_LH_VisCent_ExStr</td>\n",
       "      <td>central visual</td>\n",
       "      <td>extrastriate cortex</td>\n",
       "    </tr>\n",
       "    <tr>\n",
       "      <th>3</th>\n",
       "      <td>17Networks_LH_VisPeri_StriCal</td>\n",
       "      <td>peripheral visual</td>\n",
       "      <td>striate calcarine</td>\n",
       "    </tr>\n",
       "    <tr>\n",
       "      <th>4</th>\n",
       "      <td>17Networks_LH_VisPeri_ExStrInf</td>\n",
       "      <td>peripheral visual</td>\n",
       "      <td>extra-striate inferior</td>\n",
       "    </tr>\n",
       "    <tr>\n",
       "      <th>...</th>\n",
       "      <td>...</td>\n",
       "      <td>...</td>\n",
       "      <td>...</td>\n",
       "    </tr>\n",
       "    <tr>\n",
       "      <th>110</th>\n",
       "      <td>17Networks_RH_DefaultB_PFCv</td>\n",
       "      <td>default B</td>\n",
       "      <td>ventral prefrontal cortex</td>\n",
       "    </tr>\n",
       "    <tr>\n",
       "      <th>111</th>\n",
       "      <td>17Networks_RH_DefaultC_IPL</td>\n",
       "      <td>default C</td>\n",
       "      <td>inferior parietal lobule</td>\n",
       "    </tr>\n",
       "    <tr>\n",
       "      <th>112</th>\n",
       "      <td>17Networks_RH_DefaultC_Rsp</td>\n",
       "      <td>default C</td>\n",
       "      <td>retrosplenial</td>\n",
       "    </tr>\n",
       "    <tr>\n",
       "      <th>113</th>\n",
       "      <td>17Networks_RH_DefaultC_PHC</td>\n",
       "      <td>default C</td>\n",
       "      <td>parahippocampal cortex</td>\n",
       "    </tr>\n",
       "    <tr>\n",
       "      <th>114</th>\n",
       "      <td>17Networks_RH_TempPar</td>\n",
       "      <td>temporal parietal</td>\n",
       "      <td>temporal parietal</td>\n",
       "    </tr>\n",
       "  </tbody>\n",
       "</table>\n",
       "<p>115 rows × 3 columns</p>\n",
       "</div>"
      ],
      "text/plain": [
       "                         Label Name        Network Name  \\\n",
       "0                              NONE                 NaN   \n",
       "1     17Networks_LH_VisCent_Striate    central visual     \n",
       "2       17Networks_LH_VisCent_ExStr      central visual   \n",
       "3     17Networks_LH_VisPeri_StriCal  peripheral visual    \n",
       "4    17Networks_LH_VisPeri_ExStrInf   peripheral visual   \n",
       "..                              ...                 ...   \n",
       "110     17Networks_RH_DefaultB_PFCv           default B   \n",
       "111      17Networks_RH_DefaultC_IPL           default C   \n",
       "112      17Networks_RH_DefaultC_Rsp           default C   \n",
       "113      17Networks_RH_DefaultC_PHC           default C   \n",
       "114           17Networks_RH_TempPar   temporal parietal   \n",
       "\n",
       "           Full Component Name  \n",
       "0                          NaN  \n",
       "1               striate cortex  \n",
       "2          extrastriate cortex  \n",
       "3            striate calcarine  \n",
       "4       extra-striate inferior  \n",
       "..                         ...  \n",
       "110  ventral prefrontal cortex  \n",
       "111   inferior parietal lobule  \n",
       "112             retrosplenial   \n",
       "113     parahippocampal cortex  \n",
       "114          temporal parietal  \n",
       "\n",
       "[115 rows x 3 columns]"
      ]
     },
     "execution_count": 127,
     "metadata": {},
     "output_type": "execute_result"
    }
   ],
   "source": [
    "yeo_df"
   ]
  },
  {
   "cell_type": "code",
   "execution_count": 128,
   "id": "7daf2afe-2133-40c1-b618-4fc38af6358e",
   "metadata": {},
   "outputs": [],
   "source": [
    "# https://github.com/ThomasYeoLab/CBIG/tree/master/stable_projects/brain_parcellation/Yeo2011_fcMRI_clustering/1000subjects_reference/Yeo_JNeurophysiol11_SplitLabels/MNI152/Yeo2011_17Networks_N1000.split_components.FSL_MNI152_1mm.nii.gz\n",
    "# $PWD/Yeo2011_17Networks_N1000.split_components.FSL_MNI152_FreeSurferConformed_1mm.nii.gz transformed to FSL LAS space\n",
    "atlas_file = \"./sources/yeo17_splitlabel_1mm.nii.gz\"\n",
    "atlas_img = nib.load(atlas_file)\n",
    "atlas_data = atlas_img.get_fdata()"
   ]
  },
  {
   "cell_type": "code",
   "execution_count": 129,
   "id": "2af2c211-fa84-431d-90a7-21403cca8f99",
   "metadata": {},
   "outputs": [],
   "source": [
    "label_dict = {\"VisCent\": 1,\n",
    "            \"VisPeri\":2,\n",
    "            \"SomMotA\":3,           \n",
    "            \"SomMotB\":4,     \n",
    "            \"DorsAttnA\":5,     \n",
    "            \"DorsAttnB\":6,    \n",
    "            \"SalVentAttnA\":7,     \n",
    "            \"SalVentAttnB\":8,\n",
    "            \"LimbicA\":9,     \n",
    "            \"LimbicB\":10,  \n",
    "            \"ContC\":11,    \n",
    "            \"ContA\":12,     \n",
    "            \"ContB\":13,  \n",
    "            \"DefaultD\":14,  \n",
    "            \"DefaultC\":15,  \n",
    "            \"DefaultA\":16,  \n",
    "            \"DefaultB\":17  \n",
    "}"
   ]
  },
  {
   "cell_type": "markdown",
   "id": "fe65299c-48df-4bdd-a7c6-edeef9408b8f",
   "metadata": {},
   "source": [
    "Above confirmed also at https://github.com/ThomasYeoLab/CBIG/blob/master/stable_projects/brain_parcellation/Yeo2011_fcMRI_clustering/1000subjects_reference/17NetworksOrderedNames.csv"
   ]
  },
  {
   "cell_type": "code",
   "execution_count": 130,
   "id": "dbadd0c3-625b-4032-94d7-e791c9b8abc1",
   "metadata": {},
   "outputs": [
    {
     "data": {
      "text/html": [
       "<div>\n",
       "<style scoped>\n",
       "    .dataframe tbody tr th:only-of-type {\n",
       "        vertical-align: middle;\n",
       "    }\n",
       "\n",
       "    .dataframe tbody tr th {\n",
       "        vertical-align: top;\n",
       "    }\n",
       "\n",
       "    .dataframe thead th {\n",
       "        text-align: right;\n",
       "    }\n",
       "</style>\n",
       "<table border=\"1\" class=\"dataframe\">\n",
       "  <thead>\n",
       "    <tr style=\"text-align: right;\">\n",
       "      <th></th>\n",
       "      <th>Label Name</th>\n",
       "      <th>Network Name</th>\n",
       "      <th>Full Component Name</th>\n",
       "    </tr>\n",
       "  </thead>\n",
       "  <tbody>\n",
       "    <tr>\n",
       "      <th>0</th>\n",
       "      <td>NONE</td>\n",
       "      <td>NaN</td>\n",
       "      <td>NaN</td>\n",
       "    </tr>\n",
       "    <tr>\n",
       "      <th>1</th>\n",
       "      <td>17Networks_LH_VisCent_Striate</td>\n",
       "      <td>central visual</td>\n",
       "      <td>striate cortex</td>\n",
       "    </tr>\n",
       "    <tr>\n",
       "      <th>2</th>\n",
       "      <td>17Networks_LH_VisCent_ExStr</td>\n",
       "      <td>central visual</td>\n",
       "      <td>extrastriate cortex</td>\n",
       "    </tr>\n",
       "    <tr>\n",
       "      <th>3</th>\n",
       "      <td>17Networks_LH_VisPeri_StriCal</td>\n",
       "      <td>peripheral visual</td>\n",
       "      <td>striate calcarine</td>\n",
       "    </tr>\n",
       "    <tr>\n",
       "      <th>4</th>\n",
       "      <td>17Networks_LH_VisPeri_ExStrInf</td>\n",
       "      <td>peripheral visual</td>\n",
       "      <td>extra-striate inferior</td>\n",
       "    </tr>\n",
       "    <tr>\n",
       "      <th>...</th>\n",
       "      <td>...</td>\n",
       "      <td>...</td>\n",
       "      <td>...</td>\n",
       "    </tr>\n",
       "    <tr>\n",
       "      <th>110</th>\n",
       "      <td>17Networks_RH_DefaultB_PFCv</td>\n",
       "      <td>default B</td>\n",
       "      <td>ventral prefrontal cortex</td>\n",
       "    </tr>\n",
       "    <tr>\n",
       "      <th>111</th>\n",
       "      <td>17Networks_RH_DefaultC_IPL</td>\n",
       "      <td>default C</td>\n",
       "      <td>inferior parietal lobule</td>\n",
       "    </tr>\n",
       "    <tr>\n",
       "      <th>112</th>\n",
       "      <td>17Networks_RH_DefaultC_Rsp</td>\n",
       "      <td>default C</td>\n",
       "      <td>retrosplenial</td>\n",
       "    </tr>\n",
       "    <tr>\n",
       "      <th>113</th>\n",
       "      <td>17Networks_RH_DefaultC_PHC</td>\n",
       "      <td>default C</td>\n",
       "      <td>parahippocampal cortex</td>\n",
       "    </tr>\n",
       "    <tr>\n",
       "      <th>114</th>\n",
       "      <td>17Networks_RH_TempPar</td>\n",
       "      <td>temporal parietal</td>\n",
       "      <td>temporal parietal</td>\n",
       "    </tr>\n",
       "  </tbody>\n",
       "</table>\n",
       "<p>115 rows × 3 columns</p>\n",
       "</div>"
      ],
      "text/plain": [
       "                         Label Name        Network Name  \\\n",
       "0                              NONE                 NaN   \n",
       "1     17Networks_LH_VisCent_Striate    central visual     \n",
       "2       17Networks_LH_VisCent_ExStr      central visual   \n",
       "3     17Networks_LH_VisPeri_StriCal  peripheral visual    \n",
       "4    17Networks_LH_VisPeri_ExStrInf   peripheral visual   \n",
       "..                              ...                 ...   \n",
       "110     17Networks_RH_DefaultB_PFCv           default B   \n",
       "111      17Networks_RH_DefaultC_IPL           default C   \n",
       "112      17Networks_RH_DefaultC_Rsp           default C   \n",
       "113      17Networks_RH_DefaultC_PHC           default C   \n",
       "114           17Networks_RH_TempPar   temporal parietal   \n",
       "\n",
       "           Full Component Name  \n",
       "0                          NaN  \n",
       "1               striate cortex  \n",
       "2          extrastriate cortex  \n",
       "3            striate calcarine  \n",
       "4       extra-striate inferior  \n",
       "..                         ...  \n",
       "110  ventral prefrontal cortex  \n",
       "111   inferior parietal lobule  \n",
       "112             retrosplenial   \n",
       "113     parahippocampal cortex  \n",
       "114          temporal parietal  \n",
       "\n",
       "[115 rows x 3 columns]"
      ]
     },
     "execution_count": 130,
     "metadata": {},
     "output_type": "execute_result"
    }
   ],
   "source": [
    "yeo_df"
   ]
  },
  {
   "cell_type": "code",
   "execution_count": 131,
   "id": "b8c749d2-e5f9-4ac2-ad76-99c8a7453554",
   "metadata": {},
   "outputs": [],
   "source": [
    "yeo131_df=yeo_df.copy()\n",
    "yeo131_df[\"17Networks Number\"]=0\n",
    "yeo131_df[\"17Networks Name\"]=yeo131_df[\"Network Name\"]"
   ]
  },
  {
   "cell_type": "code",
   "execution_count": 132,
   "id": "600cca0c-2440-4756-ab3b-eaa01c6ee78f",
   "metadata": {},
   "outputs": [
    {
     "data": {
      "text/html": [
       "<div>\n",
       "<style scoped>\n",
       "    .dataframe tbody tr th:only-of-type {\n",
       "        vertical-align: middle;\n",
       "    }\n",
       "\n",
       "    .dataframe tbody tr th {\n",
       "        vertical-align: top;\n",
       "    }\n",
       "\n",
       "    .dataframe thead th {\n",
       "        text-align: right;\n",
       "    }\n",
       "</style>\n",
       "<table border=\"1\" class=\"dataframe\">\n",
       "  <thead>\n",
       "    <tr style=\"text-align: right;\">\n",
       "      <th></th>\n",
       "      <th>Label Name</th>\n",
       "      <th>Network Name</th>\n",
       "      <th>Full Component Name</th>\n",
       "      <th>17Networks Number</th>\n",
       "      <th>17Networks Name</th>\n",
       "    </tr>\n",
       "  </thead>\n",
       "  <tbody>\n",
       "    <tr>\n",
       "      <th>0</th>\n",
       "      <td>NONE</td>\n",
       "      <td>NaN</td>\n",
       "      <td>NaN</td>\n",
       "      <td>0</td>\n",
       "      <td>NaN</td>\n",
       "    </tr>\n",
       "    <tr>\n",
       "      <th>1</th>\n",
       "      <td>17Networks_LH_VisCent_Striate</td>\n",
       "      <td>central visual</td>\n",
       "      <td>striate cortex</td>\n",
       "      <td>0</td>\n",
       "      <td>central visual</td>\n",
       "    </tr>\n",
       "    <tr>\n",
       "      <th>2</th>\n",
       "      <td>17Networks_LH_VisCent_ExStr</td>\n",
       "      <td>central visual</td>\n",
       "      <td>extrastriate cortex</td>\n",
       "      <td>0</td>\n",
       "      <td>central visual</td>\n",
       "    </tr>\n",
       "    <tr>\n",
       "      <th>3</th>\n",
       "      <td>17Networks_LH_VisPeri_StriCal</td>\n",
       "      <td>peripheral visual</td>\n",
       "      <td>striate calcarine</td>\n",
       "      <td>0</td>\n",
       "      <td>peripheral visual</td>\n",
       "    </tr>\n",
       "    <tr>\n",
       "      <th>4</th>\n",
       "      <td>17Networks_LH_VisPeri_ExStrInf</td>\n",
       "      <td>peripheral visual</td>\n",
       "      <td>extra-striate inferior</td>\n",
       "      <td>0</td>\n",
       "      <td>peripheral visual</td>\n",
       "    </tr>\n",
       "    <tr>\n",
       "      <th>...</th>\n",
       "      <td>...</td>\n",
       "      <td>...</td>\n",
       "      <td>...</td>\n",
       "      <td>...</td>\n",
       "      <td>...</td>\n",
       "    </tr>\n",
       "    <tr>\n",
       "      <th>110</th>\n",
       "      <td>17Networks_RH_DefaultB_PFCv</td>\n",
       "      <td>default B</td>\n",
       "      <td>ventral prefrontal cortex</td>\n",
       "      <td>0</td>\n",
       "      <td>default B</td>\n",
       "    </tr>\n",
       "    <tr>\n",
       "      <th>111</th>\n",
       "      <td>17Networks_RH_DefaultC_IPL</td>\n",
       "      <td>default C</td>\n",
       "      <td>inferior parietal lobule</td>\n",
       "      <td>0</td>\n",
       "      <td>default C</td>\n",
       "    </tr>\n",
       "    <tr>\n",
       "      <th>112</th>\n",
       "      <td>17Networks_RH_DefaultC_Rsp</td>\n",
       "      <td>default C</td>\n",
       "      <td>retrosplenial</td>\n",
       "      <td>0</td>\n",
       "      <td>default C</td>\n",
       "    </tr>\n",
       "    <tr>\n",
       "      <th>113</th>\n",
       "      <td>17Networks_RH_DefaultC_PHC</td>\n",
       "      <td>default C</td>\n",
       "      <td>parahippocampal cortex</td>\n",
       "      <td>0</td>\n",
       "      <td>default C</td>\n",
       "    </tr>\n",
       "    <tr>\n",
       "      <th>114</th>\n",
       "      <td>17Networks_RH_TempPar</td>\n",
       "      <td>temporal parietal</td>\n",
       "      <td>temporal parietal</td>\n",
       "      <td>0</td>\n",
       "      <td>temporal parietal</td>\n",
       "    </tr>\n",
       "  </tbody>\n",
       "</table>\n",
       "<p>115 rows × 5 columns</p>\n",
       "</div>"
      ],
      "text/plain": [
       "                         Label Name        Network Name  \\\n",
       "0                              NONE                 NaN   \n",
       "1     17Networks_LH_VisCent_Striate    central visual     \n",
       "2       17Networks_LH_VisCent_ExStr      central visual   \n",
       "3     17Networks_LH_VisPeri_StriCal  peripheral visual    \n",
       "4    17Networks_LH_VisPeri_ExStrInf   peripheral visual   \n",
       "..                              ...                 ...   \n",
       "110     17Networks_RH_DefaultB_PFCv           default B   \n",
       "111      17Networks_RH_DefaultC_IPL           default C   \n",
       "112      17Networks_RH_DefaultC_Rsp           default C   \n",
       "113      17Networks_RH_DefaultC_PHC           default C   \n",
       "114           17Networks_RH_TempPar   temporal parietal   \n",
       "\n",
       "           Full Component Name  17Networks Number     17Networks Name  \n",
       "0                          NaN                  0                 NaN  \n",
       "1               striate cortex                  0    central visual    \n",
       "2          extrastriate cortex                  0      central visual  \n",
       "3            striate calcarine                  0  peripheral visual   \n",
       "4       extra-striate inferior                  0   peripheral visual  \n",
       "..                         ...                ...                 ...  \n",
       "110  ventral prefrontal cortex                  0           default B  \n",
       "111   inferior parietal lobule                  0           default C  \n",
       "112             retrosplenial                   0           default C  \n",
       "113     parahippocampal cortex                  0           default C  \n",
       "114          temporal parietal                  0   temporal parietal  \n",
       "\n",
       "[115 rows x 5 columns]"
      ]
     },
     "execution_count": 132,
     "metadata": {},
     "output_type": "execute_result"
    }
   ],
   "source": [
    "yeo131_df"
   ]
  },
  {
   "cell_type": "code",
   "execution_count": 133,
   "id": "33d7d26d-a914-44c1-9cdf-7a02e19668a2",
   "metadata": {},
   "outputs": [],
   "source": [
    "replacement_dict = {\"central\": \"VisCent\",\n",
    "            \"peripheral\": \"VisPeri\",\n",
    "            \"somatomotor A\": \"SomMotA\",           \n",
    "            \"somatomotor B\": \"SomMotB\",     \n",
    "            \"dorsal attention A\": \"DorsAttnA\",     \n",
    "            \"dorsal attention B\": \"DorsAttnB\",    \n",
    "            \"ventral attention A\": \"SalVentAttnA\",     \n",
    "            \"ventral attention B\": \"SalVentAttnB\",\n",
    "            \"limbic A\": \"LimbicA\",     \n",
    "            \"limbic B\": \"LimbicB\",  \n",
    "            \"control A\": \"ContA\",     \n",
    "            \"control B\": \"ContB\",  \n",
    "            \"control C\": \"ContC\",     \n",
    "            \"default A\": \"DefaultA\",  \n",
    "            \"default B\": \"DefaultB\",  \n",
    "            \"default C\": \"DefaultC\",  \n",
    "            \"temporal parietal\": \"DefaultD\"  \n",
    "}"
   ]
  },
  {
   "cell_type": "code",
   "execution_count": 134,
   "id": "90b958cd-9e40-463a-941c-cb3ee0545b4b",
   "metadata": {},
   "outputs": [],
   "source": [
    "import re\n",
    "def replace_location(value):\n",
    "    if not pd.isna(value):\n",
    "        value = re.sub(r'\\s+', ' ', value).strip()\n",
    "        for key, replacement in replacement_dict.items():\n",
    "            if key.lower() in value.lower():\n",
    "                return replacement\n",
    "    return value"
   ]
  },
  {
   "cell_type": "code",
   "execution_count": 135,
   "id": "23f630fb-0122-4046-85a2-9689106f2c0b",
   "metadata": {},
   "outputs": [],
   "source": [
    "yeo131_df[\"17Networks Name\"] = yeo131_df[\"17Networks Name\"].apply(replace_location)\n",
    "yeo131_df[\"17Networks Number\"] = yeo131_df[\"17Networks Name\"].map(label_dict)"
   ]
  },
  {
   "cell_type": "code",
   "execution_count": 136,
   "id": "c4af4111-c490-43f3-8354-e31f7c11654e",
   "metadata": {},
   "outputs": [
    {
     "data": {
      "text/html": [
       "<div>\n",
       "<style scoped>\n",
       "    .dataframe tbody tr th:only-of-type {\n",
       "        vertical-align: middle;\n",
       "    }\n",
       "\n",
       "    .dataframe tbody tr th {\n",
       "        vertical-align: top;\n",
       "    }\n",
       "\n",
       "    .dataframe thead th {\n",
       "        text-align: right;\n",
       "    }\n",
       "</style>\n",
       "<table border=\"1\" class=\"dataframe\">\n",
       "  <thead>\n",
       "    <tr style=\"text-align: right;\">\n",
       "      <th></th>\n",
       "      <th>Label Name</th>\n",
       "      <th>Network Name</th>\n",
       "      <th>Full Component Name</th>\n",
       "      <th>17Networks Number</th>\n",
       "      <th>17Networks Name</th>\n",
       "    </tr>\n",
       "  </thead>\n",
       "  <tbody>\n",
       "    <tr>\n",
       "      <th>0</th>\n",
       "      <td>NONE</td>\n",
       "      <td>NaN</td>\n",
       "      <td>NaN</td>\n",
       "      <td>NaN</td>\n",
       "      <td>NaN</td>\n",
       "    </tr>\n",
       "    <tr>\n",
       "      <th>1</th>\n",
       "      <td>17Networks_LH_VisCent_Striate</td>\n",
       "      <td>central visual</td>\n",
       "      <td>striate cortex</td>\n",
       "      <td>1.0</td>\n",
       "      <td>VisCent</td>\n",
       "    </tr>\n",
       "    <tr>\n",
       "      <th>2</th>\n",
       "      <td>17Networks_LH_VisCent_ExStr</td>\n",
       "      <td>central visual</td>\n",
       "      <td>extrastriate cortex</td>\n",
       "      <td>1.0</td>\n",
       "      <td>VisCent</td>\n",
       "    </tr>\n",
       "    <tr>\n",
       "      <th>3</th>\n",
       "      <td>17Networks_LH_VisPeri_StriCal</td>\n",
       "      <td>peripheral visual</td>\n",
       "      <td>striate calcarine</td>\n",
       "      <td>2.0</td>\n",
       "      <td>VisPeri</td>\n",
       "    </tr>\n",
       "    <tr>\n",
       "      <th>4</th>\n",
       "      <td>17Networks_LH_VisPeri_ExStrInf</td>\n",
       "      <td>peripheral visual</td>\n",
       "      <td>extra-striate inferior</td>\n",
       "      <td>2.0</td>\n",
       "      <td>VisPeri</td>\n",
       "    </tr>\n",
       "    <tr>\n",
       "      <th>...</th>\n",
       "      <td>...</td>\n",
       "      <td>...</td>\n",
       "      <td>...</td>\n",
       "      <td>...</td>\n",
       "      <td>...</td>\n",
       "    </tr>\n",
       "    <tr>\n",
       "      <th>110</th>\n",
       "      <td>17Networks_RH_DefaultB_PFCv</td>\n",
       "      <td>default B</td>\n",
       "      <td>ventral prefrontal cortex</td>\n",
       "      <td>17.0</td>\n",
       "      <td>DefaultB</td>\n",
       "    </tr>\n",
       "    <tr>\n",
       "      <th>111</th>\n",
       "      <td>17Networks_RH_DefaultC_IPL</td>\n",
       "      <td>default C</td>\n",
       "      <td>inferior parietal lobule</td>\n",
       "      <td>15.0</td>\n",
       "      <td>DefaultC</td>\n",
       "    </tr>\n",
       "    <tr>\n",
       "      <th>112</th>\n",
       "      <td>17Networks_RH_DefaultC_Rsp</td>\n",
       "      <td>default C</td>\n",
       "      <td>retrosplenial</td>\n",
       "      <td>15.0</td>\n",
       "      <td>DefaultC</td>\n",
       "    </tr>\n",
       "    <tr>\n",
       "      <th>113</th>\n",
       "      <td>17Networks_RH_DefaultC_PHC</td>\n",
       "      <td>default C</td>\n",
       "      <td>parahippocampal cortex</td>\n",
       "      <td>15.0</td>\n",
       "      <td>DefaultC</td>\n",
       "    </tr>\n",
       "    <tr>\n",
       "      <th>114</th>\n",
       "      <td>17Networks_RH_TempPar</td>\n",
       "      <td>temporal parietal</td>\n",
       "      <td>temporal parietal</td>\n",
       "      <td>14.0</td>\n",
       "      <td>DefaultD</td>\n",
       "    </tr>\n",
       "  </tbody>\n",
       "</table>\n",
       "<p>115 rows × 5 columns</p>\n",
       "</div>"
      ],
      "text/plain": [
       "                         Label Name        Network Name  \\\n",
       "0                              NONE                 NaN   \n",
       "1     17Networks_LH_VisCent_Striate    central visual     \n",
       "2       17Networks_LH_VisCent_ExStr      central visual   \n",
       "3     17Networks_LH_VisPeri_StriCal  peripheral visual    \n",
       "4    17Networks_LH_VisPeri_ExStrInf   peripheral visual   \n",
       "..                              ...                 ...   \n",
       "110     17Networks_RH_DefaultB_PFCv           default B   \n",
       "111      17Networks_RH_DefaultC_IPL           default C   \n",
       "112      17Networks_RH_DefaultC_Rsp           default C   \n",
       "113      17Networks_RH_DefaultC_PHC           default C   \n",
       "114           17Networks_RH_TempPar   temporal parietal   \n",
       "\n",
       "           Full Component Name  17Networks Number 17Networks Name  \n",
       "0                          NaN                NaN             NaN  \n",
       "1               striate cortex                1.0         VisCent  \n",
       "2          extrastriate cortex                1.0         VisCent  \n",
       "3            striate calcarine                2.0         VisPeri  \n",
       "4       extra-striate inferior                2.0         VisPeri  \n",
       "..                         ...                ...             ...  \n",
       "110  ventral prefrontal cortex               17.0        DefaultB  \n",
       "111   inferior parietal lobule               15.0        DefaultC  \n",
       "112             retrosplenial                15.0        DefaultC  \n",
       "113     parahippocampal cortex               15.0        DefaultC  \n",
       "114          temporal parietal               14.0        DefaultD  \n",
       "\n",
       "[115 rows x 5 columns]"
      ]
     },
     "execution_count": 136,
     "metadata": {},
     "output_type": "execute_result"
    }
   ],
   "source": [
    "yeo131_df"
   ]
  },
  {
   "cell_type": "code",
   "execution_count": 137,
   "id": "1bc4cfe3-f2bf-4bda-86b7-5aa41d0fa44f",
   "metadata": {},
   "outputs": [
    {
     "data": {
      "text/plain": [
       "Label Name             17Networks_RH_TempPar\n",
       "Network Name               temporal parietal\n",
       "Full Component Name        temporal parietal\n",
       "17Networks Number                       14.0\n",
       "17Networks Name                     DefaultD\n",
       "Name: 114, dtype: object"
      ]
     },
     "execution_count": 137,
     "metadata": {},
     "output_type": "execute_result"
    }
   ],
   "source": [
    "yeo131_df.iloc[114]"
   ]
  },
  {
   "cell_type": "code",
   "execution_count": 138,
   "id": "b44fd579-f7bc-4e1e-bdec-fd95382e9ea7",
   "metadata": {
    "scrolled": true
   },
   "outputs": [],
   "source": [
    "yeo131_df.iloc[114,yeo131_df.columns.get_loc(\"Label Name\")] = \"17Networks_RH_DefaultD_TempPar\"\n",
    "yeo131_df.iloc[57,yeo131_df.columns.get_loc(\"Label Name\")] = \"17Networks_LH_DefaultD_TempPar\""
   ]
  },
  {
   "cell_type": "code",
   "execution_count": 51,
   "id": "5848b12a-3d22-48b1-9d44-2995eaa19878",
   "metadata": {},
   "outputs": [
    {
     "data": {
      "text/html": [
       "<div>\n",
       "<style scoped>\n",
       "    .dataframe tbody tr th:only-of-type {\n",
       "        vertical-align: middle;\n",
       "    }\n",
       "\n",
       "    .dataframe tbody tr th {\n",
       "        vertical-align: top;\n",
       "    }\n",
       "\n",
       "    .dataframe thead th {\n",
       "        text-align: right;\n",
       "    }\n",
       "</style>\n",
       "<table border=\"1\" class=\"dataframe\">\n",
       "  <thead>\n",
       "    <tr style=\"text-align: right;\">\n",
       "      <th></th>\n",
       "      <th>Label Name</th>\n",
       "      <th>Network Name</th>\n",
       "      <th>Full Component Name</th>\n",
       "      <th>net17_name</th>\n",
       "      <th>net17_num</th>\n",
       "    </tr>\n",
       "  </thead>\n",
       "  <tbody>\n",
       "    <tr>\n",
       "      <th>57</th>\n",
       "      <td>17Networks_LH_TempPar</td>\n",
       "      <td>temporal parietal</td>\n",
       "      <td>temporal parietal</td>\n",
       "      <td>DefaultD</td>\n",
       "      <td>14.0</td>\n",
       "    </tr>\n",
       "  </tbody>\n",
       "</table>\n",
       "</div>"
      ],
      "text/plain": [
       "               Label Name       Network Name Full Component Name net17_name  \\\n",
       "57  17Networks_LH_TempPar  temporal parietal   temporal parietal   DefaultD   \n",
       "\n",
       "    net17_num  \n",
       "57       14.0  "
      ]
     },
     "execution_count": 51,
     "metadata": {},
     "output_type": "execute_result"
    }
   ],
   "source": [
    "#yeo131_df[yeo131_df[\"Network Name\"].str.contains(\"parietal\",na=False)]"
   ]
  },
  {
   "cell_type": "code",
   "execution_count": 139,
   "id": "25d4f7e4-e48b-47f1-a863-629ff125a862",
   "metadata": {},
   "outputs": [],
   "source": [
    "startroi=115\n",
    "netlen=17\n",
    "rows=[]\n",
    "for cereb in range(startroi,startroi+netlen):\n",
    "    netnum = cereb - 114\n",
    "    netname = [x for x in label_dict.keys() if label_dict[x]==netnum][0]\n",
    "    rows.append({\"Label Name\" : f\"17Networks_{netname}_Cerebellum_{netnum}\", \n",
    "                 \"Network Name\": f\"{netname}\",\n",
    "                 \"Full Component Name\" : f\"Cerebellum_{netnum}\",\n",
    "                 \"17Networks Number\" : \tnetnum,\n",
    "                 \"17Networks Name\": netname}\n",
    "               )\n"
   ]
  },
  {
   "cell_type": "code",
   "execution_count": 140,
   "id": "7f53e488-ab2f-46e0-9b7a-1e1e02f0101c",
   "metadata": {
    "scrolled": true
   },
   "outputs": [
    {
     "data": {
      "text/plain": [
       "[{'Label Name': '17Networks_VisCent_Cerebellum_1',\n",
       "  'Network Name': 'VisCent',\n",
       "  'Full Component Name': 'Cerebellum_1',\n",
       "  '17Networks Number': 1,\n",
       "  '17Networks Name': 'VisCent'},\n",
       " {'Label Name': '17Networks_VisPeri_Cerebellum_2',\n",
       "  'Network Name': 'VisPeri',\n",
       "  'Full Component Name': 'Cerebellum_2',\n",
       "  '17Networks Number': 2,\n",
       "  '17Networks Name': 'VisPeri'},\n",
       " {'Label Name': '17Networks_SomMotA_Cerebellum_3',\n",
       "  'Network Name': 'SomMotA',\n",
       "  'Full Component Name': 'Cerebellum_3',\n",
       "  '17Networks Number': 3,\n",
       "  '17Networks Name': 'SomMotA'},\n",
       " {'Label Name': '17Networks_SomMotB_Cerebellum_4',\n",
       "  'Network Name': 'SomMotB',\n",
       "  'Full Component Name': 'Cerebellum_4',\n",
       "  '17Networks Number': 4,\n",
       "  '17Networks Name': 'SomMotB'},\n",
       " {'Label Name': '17Networks_DorsAttnA_Cerebellum_5',\n",
       "  'Network Name': 'DorsAttnA',\n",
       "  'Full Component Name': 'Cerebellum_5',\n",
       "  '17Networks Number': 5,\n",
       "  '17Networks Name': 'DorsAttnA'},\n",
       " {'Label Name': '17Networks_DorsAttnB_Cerebellum_6',\n",
       "  'Network Name': 'DorsAttnB',\n",
       "  'Full Component Name': 'Cerebellum_6',\n",
       "  '17Networks Number': 6,\n",
       "  '17Networks Name': 'DorsAttnB'},\n",
       " {'Label Name': '17Networks_SalventAttnA_Cerebellum_7',\n",
       "  'Network Name': 'SalventAttnA',\n",
       "  'Full Component Name': 'Cerebellum_7',\n",
       "  '17Networks Number': 7,\n",
       "  '17Networks Name': 'SalventAttnA'},\n",
       " {'Label Name': '17Networks_SalventAttnB_Cerebellum_8',\n",
       "  'Network Name': 'SalventAttnB',\n",
       "  'Full Component Name': 'Cerebellum_8',\n",
       "  '17Networks Number': 8,\n",
       "  '17Networks Name': 'SalventAttnB'},\n",
       " {'Label Name': '17Networks_LimbicA_Cerebellum_9',\n",
       "  'Network Name': 'LimbicA',\n",
       "  'Full Component Name': 'Cerebellum_9',\n",
       "  '17Networks Number': 9,\n",
       "  '17Networks Name': 'LimbicA'},\n",
       " {'Label Name': '17Networks_LimbicB_Cerebellum_10',\n",
       "  'Network Name': 'LimbicB',\n",
       "  'Full Component Name': 'Cerebellum_10',\n",
       "  '17Networks Number': 10,\n",
       "  '17Networks Name': 'LimbicB'},\n",
       " {'Label Name': '17Networks_ContC_Cerebellum_11',\n",
       "  'Network Name': 'ContC',\n",
       "  'Full Component Name': 'Cerebellum_11',\n",
       "  '17Networks Number': 11,\n",
       "  '17Networks Name': 'ContC'},\n",
       " {'Label Name': '17Networks_ContA_Cerebellum_12',\n",
       "  'Network Name': 'ContA',\n",
       "  'Full Component Name': 'Cerebellum_12',\n",
       "  '17Networks Number': 12,\n",
       "  '17Networks Name': 'ContA'},\n",
       " {'Label Name': '17Networks_ContB_Cerebellum_13',\n",
       "  'Network Name': 'ContB',\n",
       "  'Full Component Name': 'Cerebellum_13',\n",
       "  '17Networks Number': 13,\n",
       "  '17Networks Name': 'ContB'},\n",
       " {'Label Name': '17Networks_DefaultD_Cerebellum_14',\n",
       "  'Network Name': 'DefaultD',\n",
       "  'Full Component Name': 'Cerebellum_14',\n",
       "  '17Networks Number': 14,\n",
       "  '17Networks Name': 'DefaultD'},\n",
       " {'Label Name': '17Networks_DefaultC_Cerebellum_15',\n",
       "  'Network Name': 'DefaultC',\n",
       "  'Full Component Name': 'Cerebellum_15',\n",
       "  '17Networks Number': 15,\n",
       "  '17Networks Name': 'DefaultC'},\n",
       " {'Label Name': '17Networks_DefaultA_Cerebellum_16',\n",
       "  'Network Name': 'DefaultA',\n",
       "  'Full Component Name': 'Cerebellum_16',\n",
       "  '17Networks Number': 16,\n",
       "  '17Networks Name': 'DefaultA'},\n",
       " {'Label Name': '17Networks_DefaultB_Cerebellum_17',\n",
       "  'Network Name': 'DefaultB',\n",
       "  'Full Component Name': 'Cerebellum_17',\n",
       "  '17Networks Number': 17,\n",
       "  '17Networks Name': 'DefaultB'}]"
      ]
     },
     "execution_count": 140,
     "metadata": {},
     "output_type": "execute_result"
    }
   ],
   "source": [
    "rows"
   ]
  },
  {
   "cell_type": "code",
   "execution_count": 141,
   "id": "432fff59-9c22-4866-9621-14f2aa9a29f2",
   "metadata": {},
   "outputs": [],
   "source": [
    "yeo131_df = pd.concat([yeo131_df, pd.DataFrame(rows)], ignore_index=True)"
   ]
  },
  {
   "cell_type": "code",
   "execution_count": 142,
   "id": "53c14e71-e556-4e73-b946-bf66fb6c2a0a",
   "metadata": {},
   "outputs": [
    {
     "data": {
      "text/html": [
       "<div>\n",
       "<style scoped>\n",
       "    .dataframe tbody tr th:only-of-type {\n",
       "        vertical-align: middle;\n",
       "    }\n",
       "\n",
       "    .dataframe tbody tr th {\n",
       "        vertical-align: top;\n",
       "    }\n",
       "\n",
       "    .dataframe thead th {\n",
       "        text-align: right;\n",
       "    }\n",
       "</style>\n",
       "<table border=\"1\" class=\"dataframe\">\n",
       "  <thead>\n",
       "    <tr style=\"text-align: right;\">\n",
       "      <th></th>\n",
       "      <th>Label Name</th>\n",
       "      <th>Network Name</th>\n",
       "      <th>Full Component Name</th>\n",
       "      <th>17Networks Number</th>\n",
       "      <th>17Networks Name</th>\n",
       "    </tr>\n",
       "  </thead>\n",
       "  <tbody>\n",
       "    <tr>\n",
       "      <th>0</th>\n",
       "      <td>NONE</td>\n",
       "      <td>NaN</td>\n",
       "      <td>NaN</td>\n",
       "      <td>NaN</td>\n",
       "      <td>NaN</td>\n",
       "    </tr>\n",
       "    <tr>\n",
       "      <th>1</th>\n",
       "      <td>17Networks_LH_VisCent_Striate</td>\n",
       "      <td>central visual</td>\n",
       "      <td>striate cortex</td>\n",
       "      <td>1.0</td>\n",
       "      <td>VisCent</td>\n",
       "    </tr>\n",
       "    <tr>\n",
       "      <th>2</th>\n",
       "      <td>17Networks_LH_VisCent_ExStr</td>\n",
       "      <td>central visual</td>\n",
       "      <td>extrastriate cortex</td>\n",
       "      <td>1.0</td>\n",
       "      <td>VisCent</td>\n",
       "    </tr>\n",
       "    <tr>\n",
       "      <th>3</th>\n",
       "      <td>17Networks_LH_VisPeri_StriCal</td>\n",
       "      <td>peripheral visual</td>\n",
       "      <td>striate calcarine</td>\n",
       "      <td>2.0</td>\n",
       "      <td>VisPeri</td>\n",
       "    </tr>\n",
       "    <tr>\n",
       "      <th>4</th>\n",
       "      <td>17Networks_LH_VisPeri_ExStrInf</td>\n",
       "      <td>peripheral visual</td>\n",
       "      <td>extra-striate inferior</td>\n",
       "      <td>2.0</td>\n",
       "      <td>VisPeri</td>\n",
       "    </tr>\n",
       "    <tr>\n",
       "      <th>...</th>\n",
       "      <td>...</td>\n",
       "      <td>...</td>\n",
       "      <td>...</td>\n",
       "      <td>...</td>\n",
       "      <td>...</td>\n",
       "    </tr>\n",
       "    <tr>\n",
       "      <th>127</th>\n",
       "      <td>17Networks_ContB_Cerebellum_13</td>\n",
       "      <td>ContB</td>\n",
       "      <td>Cerebellum_13</td>\n",
       "      <td>13.0</td>\n",
       "      <td>ContB</td>\n",
       "    </tr>\n",
       "    <tr>\n",
       "      <th>128</th>\n",
       "      <td>17Networks_DefaultD_Cerebellum_14</td>\n",
       "      <td>DefaultD</td>\n",
       "      <td>Cerebellum_14</td>\n",
       "      <td>14.0</td>\n",
       "      <td>DefaultD</td>\n",
       "    </tr>\n",
       "    <tr>\n",
       "      <th>129</th>\n",
       "      <td>17Networks_DefaultC_Cerebellum_15</td>\n",
       "      <td>DefaultC</td>\n",
       "      <td>Cerebellum_15</td>\n",
       "      <td>15.0</td>\n",
       "      <td>DefaultC</td>\n",
       "    </tr>\n",
       "    <tr>\n",
       "      <th>130</th>\n",
       "      <td>17Networks_DefaultA_Cerebellum_16</td>\n",
       "      <td>DefaultA</td>\n",
       "      <td>Cerebellum_16</td>\n",
       "      <td>16.0</td>\n",
       "      <td>DefaultA</td>\n",
       "    </tr>\n",
       "    <tr>\n",
       "      <th>131</th>\n",
       "      <td>17Networks_DefaultB_Cerebellum_17</td>\n",
       "      <td>DefaultB</td>\n",
       "      <td>Cerebellum_17</td>\n",
       "      <td>17.0</td>\n",
       "      <td>DefaultB</td>\n",
       "    </tr>\n",
       "  </tbody>\n",
       "</table>\n",
       "<p>132 rows × 5 columns</p>\n",
       "</div>"
      ],
      "text/plain": [
       "                            Label Name        Network Name  \\\n",
       "0                                 NONE                 NaN   \n",
       "1        17Networks_LH_VisCent_Striate    central visual     \n",
       "2          17Networks_LH_VisCent_ExStr      central visual   \n",
       "3        17Networks_LH_VisPeri_StriCal  peripheral visual    \n",
       "4       17Networks_LH_VisPeri_ExStrInf   peripheral visual   \n",
       "..                                 ...                 ...   \n",
       "127     17Networks_ContB_Cerebellum_13               ContB   \n",
       "128  17Networks_DefaultD_Cerebellum_14            DefaultD   \n",
       "129  17Networks_DefaultC_Cerebellum_15            DefaultC   \n",
       "130  17Networks_DefaultA_Cerebellum_16            DefaultA   \n",
       "131  17Networks_DefaultB_Cerebellum_17            DefaultB   \n",
       "\n",
       "        Full Component Name  17Networks Number 17Networks Name  \n",
       "0                       NaN                NaN             NaN  \n",
       "1            striate cortex                1.0         VisCent  \n",
       "2       extrastriate cortex                1.0         VisCent  \n",
       "3         striate calcarine                2.0         VisPeri  \n",
       "4    extra-striate inferior                2.0         VisPeri  \n",
       "..                      ...                ...             ...  \n",
       "127           Cerebellum_13               13.0           ContB  \n",
       "128           Cerebellum_14               14.0        DefaultD  \n",
       "129           Cerebellum_15               15.0        DefaultC  \n",
       "130           Cerebellum_16               16.0        DefaultA  \n",
       "131           Cerebellum_17               17.0        DefaultB  \n",
       "\n",
       "[132 rows x 5 columns]"
      ]
     },
     "execution_count": 142,
     "metadata": {},
     "output_type": "execute_result"
    }
   ],
   "source": [
    "yeo131_df"
   ]
  },
  {
   "cell_type": "code",
   "execution_count": 143,
   "id": "be441063-9d79-4268-ac9a-dcd05091ea0f",
   "metadata": {},
   "outputs": [],
   "source": [
    "yeo131_df.to_csv(\"./outputs/17networks_yeobuckner131_glossary.csv\",sep=\",\",header=True, index=False)"
   ]
  },
  {
   "cell_type": "markdown",
   "id": "38208c06-de44-4a21-a57a-befa28436380",
   "metadata": {},
   "source": [
    "### Add Cerebellar atlas"
   ]
  },
  {
   "cell_type": "code",
   "execution_count": 144,
   "id": "9220846c-fbfd-4998-bc28-e476416b9e05",
   "metadata": {},
   "outputs": [],
   "source": [
    "# ftp://surfer.nmr.mgh.harvard.edu/pub/data/Buckner_JNeurophysiol11_MNI152.zip\n",
    "# Buckner2011_17Networks_MNI152_FreeSurferConformed1mm_LooseMask.nii.gz transformed to FSL LAS Space\n",
    "buck_file = \"./sources/buck17_1mm.nii.gz\"\n",
    "buck_img = nib.load(buck_file)\n",
    "buck_data = buck_img.get_fdata()"
   ]
  },
  {
   "cell_type": "markdown",
   "id": "65cc767a-7f4c-43bd-873a-51e2e5369218",
   "metadata": {},
   "source": [
    "Bump Cerebellar ROIs by 114!"
   ]
  },
  {
   "cell_type": "code",
   "execution_count": 145,
   "id": "2abbddb9-3bc9-4c37-949e-d60f61a23648",
   "metadata": {},
   "outputs": [],
   "source": [
    "for roinum in range(1,1+netlen):\n",
    "    buck_data[buck_data == roinum]=roinum+114"
   ]
  },
  {
   "cell_type": "code",
   "execution_count": 146,
   "id": "6fe43509-7cf1-4a30-8638-298e4336c45e",
   "metadata": {},
   "outputs": [
    {
     "data": {
      "text/plain": [
       "131.0"
      ]
     },
     "execution_count": 146,
     "metadata": {},
     "output_type": "execute_result"
    }
   ],
   "source": [
    "np.max(buck_data)"
   ]
  },
  {
   "cell_type": "markdown",
   "id": "fb810339-b105-4459-87e8-37bd77cd451f",
   "metadata": {},
   "source": [
    "### Where do the Yeo and buckner overlap"
   ]
  },
  {
   "cell_type": "code",
   "execution_count": 156,
   "id": "6c622f25-02e6-4603-a4ed-a6f938cb99f9",
   "metadata": {},
   "outputs": [],
   "source": [
    "mask1=atlas_data > 0\n",
    "mask2=buck_data > 0\n",
    "combined_mask = np.logical_and(mask1,mask2)"
   ]
  },
  {
   "cell_type": "code",
   "execution_count": 157,
   "id": "c9241dcb-7aa1-4efb-af1b-0402977adc5f",
   "metadata": {},
   "outputs": [
    {
     "data": {
      "text/plain": [
       "array([68., 68., 68., ..., 31., 31., 31.])"
      ]
     },
     "execution_count": 157,
     "metadata": {},
     "output_type": "execute_result"
    }
   ],
   "source": [
    "atlas_data[combined_mask]"
   ]
  },
  {
   "cell_type": "code",
   "execution_count": 158,
   "id": "44f887dc-f977-4f93-8432-f31ba426ef78",
   "metadata": {},
   "outputs": [
    {
     "data": {
      "text/plain": [
       "ModeResult(mode=116.0, count=853)"
      ]
     },
     "execution_count": 158,
     "metadata": {},
     "output_type": "execute_result"
    }
   ],
   "source": [
    "from scipy import stats\n",
    "stats.mode(buck_data[combined_mask])"
   ]
  },
  {
   "cell_type": "code",
   "execution_count": 159,
   "id": "019bcf3e-5cb2-4b1c-818b-5d96f4c693e5",
   "metadata": {},
   "outputs": [
    {
     "data": {
      "text/plain": [
       "array([126., 126., 126., ..., 126., 126., 126.])"
      ]
     },
     "execution_count": 159,
     "metadata": {},
     "output_type": "execute_result"
    }
   ],
   "source": [
    "buck_data[combined_mask]"
   ]
  },
  {
   "cell_type": "code",
   "execution_count": 160,
   "id": "e37d0e93-59f2-47db-87a1-a00d483be4e1",
   "metadata": {},
   "outputs": [],
   "source": [
    "yeo_data = atlas_data + buck_data"
   ]
  },
  {
   "cell_type": "code",
   "execution_count": 161,
   "id": "7de7ed1b-eddc-40a8-8bb5-bf439cc680ff",
   "metadata": {},
   "outputs": [
    {
     "data": {
      "text/plain": [
       "array([126., 126., 126., ..., 126., 126., 126.])"
      ]
     },
     "execution_count": 161,
     "metadata": {},
     "output_type": "execute_result"
    }
   ],
   "source": [
    "yeo_data[combined_mask]=buck_data[combined_mask]\n",
    "yeo_data[combined_mask]"
   ]
  },
  {
   "cell_type": "code",
   "execution_count": 162,
   "id": "78e8f763-0eb0-4a6d-9c6d-b059b472840f",
   "metadata": {},
   "outputs": [
    {
     "data": {
      "text/plain": [
       "131.0"
      ]
     },
     "execution_count": 162,
     "metadata": {},
     "output_type": "execute_result"
    }
   ],
   "source": [
    "np.max(yeo_data)"
   ]
  },
  {
   "cell_type": "code",
   "execution_count": 163,
   "id": "53f49586-3858-4f0b-9ddf-560225ca0d2c",
   "metadata": {},
   "outputs": [],
   "source": [
    "final_img = nib.Nifti1Image(yeo_data, atlas_img.affine, atlas_img.header)\n",
    "nib.save(final_img, \"./outputs/atlas-yeobuckner131_space-MNI152NLin6Asym_res-01_ori-LAS_dseg.nii.gz\")"
   ]
  },
  {
   "cell_type": "code",
   "execution_count": 164,
   "id": "d7d78f30-5bc8-4046-acc3-f228a1f772ae",
   "metadata": {},
   "outputs": [
    {
     "data": {
      "text/html": [
       "<div>\n",
       "<style scoped>\n",
       "    .dataframe tbody tr th:only-of-type {\n",
       "        vertical-align: middle;\n",
       "    }\n",
       "\n",
       "    .dataframe tbody tr th {\n",
       "        vertical-align: top;\n",
       "    }\n",
       "\n",
       "    .dataframe thead th {\n",
       "        text-align: right;\n",
       "    }\n",
       "</style>\n",
       "<table border=\"1\" class=\"dataframe\">\n",
       "  <thead>\n",
       "    <tr style=\"text-align: right;\">\n",
       "      <th></th>\n",
       "      <th>index</th>\n",
       "    </tr>\n",
       "  </thead>\n",
       "  <tbody>\n",
       "    <tr>\n",
       "      <th>0</th>\n",
       "      <td>1</td>\n",
       "    </tr>\n",
       "    <tr>\n",
       "      <th>1</th>\n",
       "      <td>2</td>\n",
       "    </tr>\n",
       "    <tr>\n",
       "      <th>2</th>\n",
       "      <td>3</td>\n",
       "    </tr>\n",
       "    <tr>\n",
       "      <th>3</th>\n",
       "      <td>4</td>\n",
       "    </tr>\n",
       "    <tr>\n",
       "      <th>4</th>\n",
       "      <td>5</td>\n",
       "    </tr>\n",
       "    <tr>\n",
       "      <th>...</th>\n",
       "      <td>...</td>\n",
       "    </tr>\n",
       "    <tr>\n",
       "      <th>126</th>\n",
       "      <td>127</td>\n",
       "    </tr>\n",
       "    <tr>\n",
       "      <th>127</th>\n",
       "      <td>128</td>\n",
       "    </tr>\n",
       "    <tr>\n",
       "      <th>128</th>\n",
       "      <td>129</td>\n",
       "    </tr>\n",
       "    <tr>\n",
       "      <th>129</th>\n",
       "      <td>130</td>\n",
       "    </tr>\n",
       "    <tr>\n",
       "      <th>130</th>\n",
       "      <td>131</td>\n",
       "    </tr>\n",
       "  </tbody>\n",
       "</table>\n",
       "<p>131 rows × 1 columns</p>\n",
       "</div>"
      ],
      "text/plain": [
       "     index\n",
       "0        1\n",
       "1        2\n",
       "2        3\n",
       "3        4\n",
       "4        5\n",
       "..     ...\n",
       "126    127\n",
       "127    128\n",
       "128    129\n",
       "129    130\n",
       "130    131\n",
       "\n",
       "[131 rows x 1 columns]"
      ]
     },
     "execution_count": 164,
     "metadata": {},
     "output_type": "execute_result"
    }
   ],
   "source": [
    "yeo131_labeldf = pd.DataFrame(range(1,132),columns=[\"index\"])\n",
    "yeo131_labeldf"
   ]
  },
  {
   "cell_type": "code",
   "execution_count": 165,
   "id": "11ac32ec-6e4e-421c-91a4-0655c3be65cb",
   "metadata": {},
   "outputs": [],
   "source": [
    "yeo131_labeldf[\"label\"] = [x for x in yeo131_df[\"Label Name\"] if x.startswith('17Networks')]\n"
   ]
  },
  {
   "cell_type": "code",
   "execution_count": 166,
   "id": "26b85f23-7965-4d14-ba61-7b866f5c732e",
   "metadata": {},
   "outputs": [
    {
     "data": {
      "text/html": [
       "<div>\n",
       "<style scoped>\n",
       "    .dataframe tbody tr th:only-of-type {\n",
       "        vertical-align: middle;\n",
       "    }\n",
       "\n",
       "    .dataframe tbody tr th {\n",
       "        vertical-align: top;\n",
       "    }\n",
       "\n",
       "    .dataframe thead th {\n",
       "        text-align: right;\n",
       "    }\n",
       "</style>\n",
       "<table border=\"1\" class=\"dataframe\">\n",
       "  <thead>\n",
       "    <tr style=\"text-align: right;\">\n",
       "      <th></th>\n",
       "      <th>index</th>\n",
       "      <th>label</th>\n",
       "    </tr>\n",
       "  </thead>\n",
       "  <tbody>\n",
       "    <tr>\n",
       "      <th>0</th>\n",
       "      <td>1</td>\n",
       "      <td>17Networks_LH_VisCent_Striate</td>\n",
       "    </tr>\n",
       "    <tr>\n",
       "      <th>1</th>\n",
       "      <td>2</td>\n",
       "      <td>17Networks_LH_VisCent_ExStr</td>\n",
       "    </tr>\n",
       "    <tr>\n",
       "      <th>2</th>\n",
       "      <td>3</td>\n",
       "      <td>17Networks_LH_VisPeri_StriCal</td>\n",
       "    </tr>\n",
       "    <tr>\n",
       "      <th>3</th>\n",
       "      <td>4</td>\n",
       "      <td>17Networks_LH_VisPeri_ExStrInf</td>\n",
       "    </tr>\n",
       "    <tr>\n",
       "      <th>4</th>\n",
       "      <td>5</td>\n",
       "      <td>17Networks_LH_VisPeri_ExStrSup</td>\n",
       "    </tr>\n",
       "    <tr>\n",
       "      <th>...</th>\n",
       "      <td>...</td>\n",
       "      <td>...</td>\n",
       "    </tr>\n",
       "    <tr>\n",
       "      <th>126</th>\n",
       "      <td>127</td>\n",
       "      <td>17Networks_ContB_Cerebellum_13</td>\n",
       "    </tr>\n",
       "    <tr>\n",
       "      <th>127</th>\n",
       "      <td>128</td>\n",
       "      <td>17Networks_DefaultD_Cerebellum_14</td>\n",
       "    </tr>\n",
       "    <tr>\n",
       "      <th>128</th>\n",
       "      <td>129</td>\n",
       "      <td>17Networks_DefaultC_Cerebellum_15</td>\n",
       "    </tr>\n",
       "    <tr>\n",
       "      <th>129</th>\n",
       "      <td>130</td>\n",
       "      <td>17Networks_DefaultA_Cerebellum_16</td>\n",
       "    </tr>\n",
       "    <tr>\n",
       "      <th>130</th>\n",
       "      <td>131</td>\n",
       "      <td>17Networks_DefaultB_Cerebellum_17</td>\n",
       "    </tr>\n",
       "  </tbody>\n",
       "</table>\n",
       "<p>131 rows × 2 columns</p>\n",
       "</div>"
      ],
      "text/plain": [
       "     index                              label\n",
       "0        1      17Networks_LH_VisCent_Striate\n",
       "1        2        17Networks_LH_VisCent_ExStr\n",
       "2        3      17Networks_LH_VisPeri_StriCal\n",
       "3        4     17Networks_LH_VisPeri_ExStrInf\n",
       "4        5     17Networks_LH_VisPeri_ExStrSup\n",
       "..     ...                                ...\n",
       "126    127     17Networks_ContB_Cerebellum_13\n",
       "127    128  17Networks_DefaultD_Cerebellum_14\n",
       "128    129  17Networks_DefaultC_Cerebellum_15\n",
       "129    130  17Networks_DefaultA_Cerebellum_16\n",
       "130    131  17Networks_DefaultB_Cerebellum_17\n",
       "\n",
       "[131 rows x 2 columns]"
      ]
     },
     "execution_count": 166,
     "metadata": {},
     "output_type": "execute_result"
    }
   ],
   "source": [
    "yeo131_labeldf"
   ]
  },
  {
   "cell_type": "code",
   "execution_count": 167,
   "id": "53eecadb-bdd2-438f-9a25-bdb070c72a32",
   "metadata": {},
   "outputs": [],
   "source": [
    "yeo131_labeldf.to_csv(\"./outputs/atlas-yeobuckner131_dseg.tsv\",sep=\"\\t\",header=True, index=False)"
   ]
  },
  {
   "cell_type": "code",
   "execution_count": 168,
   "id": "c1d93ca6-30f1-4682-baf5-a6cf67d7a4c8",
   "metadata": {},
   "outputs": [
    {
     "name": "stdout",
     "output_type": "stream",
     "text": [
      "250215-15:16:36,94 nipype.workflow INFO:\n",
      "\t [Node] Setting-up \"reorient_to_RAS\" in \"/tmp/tmpphhdmi9a/reorient_to_RAS\".\n",
      "250215-15:16:36,97 nipype.workflow INFO:\n",
      "\t [Node] Executing \"reorient_to_RAS\" <nipype.interfaces.image.Reorient>\n",
      "250215-15:16:36,295 nipype.workflow INFO:\n",
      "\t [Node] Finished \"reorient_to_RAS\", elapsed time 0.196134s.\n"
     ]
    }
   ],
   "source": [
    "input_file = \"./outputs/atlas-yeobuckner131_space-MNI152NLin6Asym_res-01_ori-LAS_dseg.nii.gz\"\n",
    "out_file=\"./outputs/atlas-yeobuckner131_space-MNI152NLin6Asym_res-01_dseg.nii.gz\"\n",
    "final = reorient(input_file, \"RAS\", out_file)"
   ]
  },
  {
   "cell_type": "code",
   "execution_count": 169,
   "id": "513fd8ba-b653-438c-9022-7cc6860950a1",
   "metadata": {},
   "outputs": [
    {
     "data": {
      "text/plain": [
       "'/groups/ryant/PANapps/PANpipelines/PAN2025_Deployment/atlas/yeobuckner/Development/outputs/atlas-yeobuckner131_space-MNI152NLin6Asym_res-01_dseg.nii.gz'"
      ]
     },
     "execution_count": 169,
     "metadata": {},
     "output_type": "execute_result"
    }
   ],
   "source": [
    "final"
   ]
  },
  {
   "cell_type": "code",
   "execution_count": null,
   "id": "8756a3bc-8cd8-45d9-a5a6-98ae34d31b26",
   "metadata": {},
   "outputs": [],
   "source": []
  }
 ],
 "metadata": {
  "kernelspec": {
   "display_name": "Python 3 (ipykernel)",
   "language": "python",
   "name": "python3"
  },
  "language_info": {
   "codemirror_mode": {
    "name": "ipython",
    "version": 3
   },
   "file_extension": ".py",
   "mimetype": "text/x-python",
   "name": "python",
   "nbconvert_exporter": "python",
   "pygments_lexer": "ipython3",
   "version": "3.11.4"
  }
 },
 "nbformat": 4,
 "nbformat_minor": 5
}
